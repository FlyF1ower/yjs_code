{
 "cells": [
  {
   "cell_type": "code",
   "execution_count": 2,
   "metadata": {},
   "outputs": [],
   "source": [
    "import scipy.io as io\n",
    "import numpy as np\n",
    "\n",
    "np_file1 = np.load('result_new/movie1/qk/text_qk.npy')\n",
    "np_file2 = np.load('result_new/movie1/qk/vision_qk.npy')\n",
    "np_file3 = np.load('result_new/movie1/qk/multimodal_qk.npy')\n",
    "\n",
    "io.savemat('result_new/movie1/qk/text_qk.mat', {'qk': np_file1})\n",
    "io.savemat('result_new/movie1/qk/vision_qk.mat', {'qk': np_file2})\n",
    "io.savemat('result_new/movie1/qk/multimodal_qk.mat', {'qk': np_file3})"
   ]
  }
 ],
 "metadata": {
  "kernelspec": {
   "display_name": "clip_py39",
   "language": "python",
   "name": "python3"
  },
  "language_info": {
   "codemirror_mode": {
    "name": "ipython",
    "version": 3
   },
   "file_extension": ".py",
   "mimetype": "text/x-python",
   "name": "python",
   "nbconvert_exporter": "python",
   "pygments_lexer": "ipython3",
   "version": "3.9.20"
  }
 },
 "nbformat": 4,
 "nbformat_minor": 2
}
