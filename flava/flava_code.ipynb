{
 "cells": [
  {
   "cell_type": "code",
   "execution_count": 1,
   "metadata": {},
   "outputs": [
    {
     "name": "stderr",
     "output_type": "stream",
     "text": [
      "d:\\dev\\Anaconda3\\envs\\wxl_transformer\\lib\\site-packages\\tqdm\\auto.py:21: TqdmWarning: IProgress not found. Please update jupyter and ipywidgets. See https://ipywidgets.readthedocs.io/en/stable/user_install.html\n",
      "  from .autonotebook import tqdm as notebook_tqdm\n"
     ]
    }
   ],
   "source": [
    "import torch\n",
    "import numpy as np\n",
    "from transformers import FlavaTextModel, FlavaProcessor"
   ]
  },
  {
   "cell_type": "code",
   "execution_count": 2,
   "metadata": {},
   "outputs": [],
   "source": [
    "# 设置设备\n",
    "device = torch.device(\"cuda\" if torch.cuda.is_available() else \"cpu\")"
   ]
  },
  {
   "cell_type": "code",
   "execution_count": 3,
   "metadata": {},
   "outputs": [
    {
     "name": "stdout",
     "output_type": "stream",
     "text": [
      "模型已加载至 cuda\n"
     ]
    }
   ],
   "source": [
    "# 1. ==========加载模型和分词器==========\n",
    "model_name = \"C:/Users/xinlong/Desktop/code/python/flava_use/model/facebook/flava-full\"\n",
    "\n",
    "model = FlavaTextModel.from_pretrained(model_name)\n",
    "tokenizer = FlavaProcessor.from_pretrained(model_name)\n",
    "\n",
    "model.eval()\n",
    "model.to(device)\n",
    "print(f\"模型已加载至 {device}\")"
   ]
  },
  {
   "cell_type": "code",
   "execution_count": 5,
   "metadata": {},
   "outputs": [],
   "source": [
    "# 2. ==========准备输入文本==========\n",
    "texts = [\"一只猫\", \"一只狗\", \"一只猫和一只狗\"]  # 示例输入，替换为你的m个文本\n",
    "inputs = tokenizer(\n",
    "    text=texts,\n",
    "    return_tensors=\"pt\",\n",
    "    padding=True,\n",
    "    truncation=True\n",
    "    ).to(device)"
   ]
  },
  {
   "cell_type": "code",
   "execution_count": null,
   "metadata": {},
   "outputs": [],
   "source": [
    "# 3. ==========定义一个钩子函数来捕获中间值==========\n",
    "q_list = [[] for _ in range(len(model.encoder.layer))]  # 存储每一层的Q\n",
    "k_list = [[] for _ in range(len(model.encoder.layer))]  # 存储每一层的K\n",
    "ffn_output_list = [[] for _ in range(len(model.encoder.layer))]  # 存储每一层的FFN输出\n",
    "\n",
    "def get_q_hook(layer_idx):\n",
    "    def hook(module, input, output):\n",
    "        q_list[layer_idx].append(output.detach().cpu().numpy())\n",
    "    return hook\n",
    "\n",
    "def get_k_hook(layer_idx):\n",
    "    def hook(module, input, output):\n",
    "        k_list[layer_idx].append(output.detach().cpu().numpy())\n",
    "    return hook\n",
    "\n",
    "def get_ffn_hook(layer_idx):\n",
    "    def hook(module, input, output):\n",
    "        ffn_output_list[layer_idx].append(output.detach().cpu().numpy())\n",
    "    return hook"
   ]
  },
  {
   "cell_type": "code",
   "execution_count": null,
   "metadata": {},
   "outputs": [],
   "source": [
    "# 4. ==========注册钩子函数==========\n",
    "for i, layer in enumerate(model.encoder.layer):\n",
    "    layer.self_attn.q_proj.register_forward_hook(get_q_hook(i))\n",
    "    layer.self_attn.k_proj.register_forward_hook(get_k_hook(i))\n",
    "    layer.mlp.register_forward_hook(get_ffn_hook(i))"
   ]
  }
 ],
 "metadata": {
  "kernelspec": {
   "display_name": "wxl_transformer",
   "language": "python",
   "name": "python3"
  },
  "language_info": {
   "codemirror_mode": {
    "name": "ipython",
    "version": 3
   },
   "file_extension": ".py",
   "mimetype": "text/x-python",
   "name": "python",
   "nbconvert_exporter": "python",
   "pygments_lexer": "ipython3",
   "version": "3.10.16"
  }
 },
 "nbformat": 4,
 "nbformat_minor": 2
}
